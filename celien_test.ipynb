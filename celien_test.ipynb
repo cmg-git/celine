{
 "cells": [
  {
   "cell_type": "markdown",
   "id": "a41834af-2fd6-4d8f-ba65-d11299aa78df",
   "metadata": {},
   "source": [
    "# Test PyCloze for Celine"
   ]
  },
  {
   "cell_type": "code",
   "execution_count": 1,
   "id": "4c7a5495-3f53-434c-b153-79fc4ba49364",
   "metadata": {},
   "outputs": [
    {
     "name": "stdout",
     "output_type": "stream",
     "text": [
      "Test:  0\n",
      "Inputs:\n",
      "{'ρ': 887, 'd': 156, 'w': 1.5}\n",
      "Outputs:\n",
      "{'m': 25.43044483175782} \n",
      "\n",
      "Test:  1\n",
      "Inputs:\n",
      "{'ρ': 887, 'd': 156, 'w': 2.0}\n",
      "Outputs:\n",
      "{'m': 33.9072597756771} \n",
      "\n",
      "Test:  2\n",
      "Inputs:\n",
      "{'ρ': 887, 'd': 40, 'w': 1.5}\n",
      "Outputs:\n",
      "{'m': 1.671955610240488} \n",
      "\n",
      "Test:  3\n",
      "Inputs:\n",
      "{'ρ': 887, 'd': 40, 'w': 2.0}\n",
      "Outputs:\n",
      "{'m': 2.229274146987317} \n",
      "\n",
      "Test:  4\n",
      "Inputs:\n",
      "{'ρ': 1000, 'd': 156, 'w': 1.5}\n",
      "Outputs:\n",
      "{'m': 28.670174556660452} \n",
      "\n",
      "Test:  5\n",
      "Inputs:\n",
      "{'ρ': 1000, 'd': 156, 'w': 2.0}\n",
      "Outputs:\n",
      "{'m': 38.2268994088806} \n",
      "\n",
      "Test:  6\n",
      "Inputs:\n",
      "{'ρ': 1000, 'd': 40, 'w': 1.5}\n",
      "Outputs:\n",
      "{'m': 1.8849555921538759} \n",
      "\n",
      "Test:  7\n",
      "Inputs:\n",
      "{'ρ': 1000, 'd': 40, 'w': 2.0}\n",
      "Outputs:\n",
      "{'m': 2.5132741228718345} \n",
      "\n"
     ]
    }
   ],
   "source": [
    "import celine"
   ]
  },
  {
   "cell_type": "code",
   "execution_count": null,
   "id": "640490e5-cac7-4bc7-b371-aab334885bfa",
   "metadata": {},
   "outputs": [],
   "source": []
  },
  {
   "cell_type": "code",
   "execution_count": null,
   "id": "c9afe374-77ac-4371-a588-a4696efa9edd",
   "metadata": {},
   "outputs": [],
   "source": []
  }
 ],
 "metadata": {
  "kernelspec": {
   "display_name": "Python 3 (ipykernel)",
   "language": "python",
   "name": "python3"
  },
  "language_info": {
   "codemirror_mode": {
    "name": "ipython",
    "version": 3
   },
   "file_extension": ".py",
   "mimetype": "text/x-python",
   "name": "python",
   "nbconvert_exporter": "python",
   "pygments_lexer": "ipython3",
   "version": "3.9.7"
  }
 },
 "nbformat": 4,
 "nbformat_minor": 5
}
