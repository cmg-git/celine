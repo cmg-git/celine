{
 "cells": [
  {
   "cell_type": "markdown",
   "id": "a41834af-2fd6-4d8f-ba65-d11299aa78df",
   "metadata": {},
   "source": [
    "# Test PyCloze for Celine"
   ]
  },
  {
   "cell_type": "code",
   "execution_count": null,
   "id": "4c7a5495-3f53-434c-b153-79fc4ba49364",
   "metadata": {},
   "outputs": [],
   "source": [
    "celine.mdl.py"
   ]
  }
 ],
 "metadata": {
  "kernelspec": {
   "display_name": "Python 3 (ipykernel)",
   "language": "python",
   "name": "python3"
  },
  "language_info": {
   "codemirror_mode": {
    "name": "ipython",
    "version": 3
   },
   "file_extension": ".py",
   "mimetype": "text/x-python",
   "name": "python",
   "nbconvert_exporter": "python",
   "pygments_lexer": "ipython3",
   "version": "3.9.7"
  }
 },
 "nbformat": 4,
 "nbformat_minor": 5
}
